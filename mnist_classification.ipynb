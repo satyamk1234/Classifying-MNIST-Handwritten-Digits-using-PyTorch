{
 "cells": [
  {
   "cell_type": "code",
   "execution_count": 1,
   "metadata": {},
   "outputs": [
    {
     "name": "stdout",
     "output_type": "stream",
     "text": [
      "True\n",
      "NVIDIA GeForce RTX 3050 6GB Laptop GPU\n"
     ]
    }
   ],
   "source": [
    "import torch\n",
    "print(torch.cuda.is_available())\n",
    "print(torch.cuda.get_device_name(0))"
   ]
  },
  {
   "cell_type": "code",
   "execution_count": 2,
   "metadata": {},
   "outputs": [
    {
     "name": "stdout",
     "output_type": "stream",
     "text": [
      "cuda\n"
     ]
    }
   ],
   "source": [
    "device = torch.device(\"cuda\" if torch.cuda.is_available() else \"cpu\")\n",
    "print(device)"
   ]
  },
  {
   "cell_type": "code",
   "execution_count": 3,
   "metadata": {},
   "outputs": [],
   "source": [
    "import torchvision\n",
    "from torchvision import transforms\n",
    "from torch.utils.data import DataLoader, TensorDataset\n",
    "\n",
    "image_path = 'C:/Users/Satyam Kumar/Downloads'\n",
    "transform = transforms.Compose([transforms.ToTensor()])\n",
    "\n",
    "mnist_train_ds = torchvision.datasets.MNIST(root=image_path, train=True, transform=transform, download=True)\n",
    "\n",
    "mnist_test_ds  = torchvision.datasets.MNIST(root=image_path, train=False, transform=transform, download=True)\n",
    "\n",
    "batch_size = 64\n",
    "torch.manual_seed(1)\n",
    "\n",
    "train_dl = DataLoader(mnist_train_ds, batch_size, shuffle = True)\n",
    "test_dl  = DataLoader(mnist_test_ds, batch_size)"
   ]
  },
  {
   "cell_type": "code",
   "execution_count": 4,
   "metadata": {},
   "outputs": [
    {
     "name": "stdout",
     "output_type": "stream",
     "text": [
      "60000 10000\n"
     ]
    },
    {
     "data": {
      "text/plain": [
       "(torch.Size([1, 28, 28]), 0.0, 1.0, 5)"
      ]
     },
     "execution_count": 4,
     "metadata": {},
     "output_type": "execute_result"
    }
   ],
   "source": [
    "print(len(mnist_train_ds), len(mnist_test_ds))  # expect (60000, 10000)\n",
    "\n",
    "x, y = mnist_train_ds[0]\n",
    "x.shape, x.min().item(), x.max().item(), y\n",
    "# Expect [1,28,28], values roughly in [-1, 1], label 0–9\n"
   ]
  },
  {
   "cell_type": "code",
   "execution_count": 5,
   "metadata": {},
   "outputs": [
    {
     "name": "stdout",
     "output_type": "stream",
     "text": [
      "Sequential(\n",
      "  (0): Flatten(start_dim=1, end_dim=-1)\n",
      "  (1): Linear(in_features=784, out_features=32, bias=True)\n",
      "  (2): ReLU()\n",
      "  (3): Linear(in_features=32, out_features=16, bias=True)\n",
      "  (4): ReLU()\n",
      "  (5): Linear(in_features=16, out_features=10, bias=True)\n",
      ")\n"
     ]
    }
   ],
   "source": [
    "import torch.nn as nn\n",
    "\n",
    "hidden_units = [32, 16]\n",
    "image_size = mnist_train_ds[0][0].shape\n",
    "input_size = image_size[0]*image_size[1]*image_size[2]\n",
    "all_layers = [nn.Flatten()]\n",
    "\n",
    "for hidden_unit in hidden_units:\n",
    "    layer = nn.Linear(input_size, hidden_unit)\n",
    "    all_layers.append(layer)\n",
    "    all_layers.append(nn.ReLU())\n",
    "    input_size = hidden_unit\n",
    "all_layers.append(nn.Linear(hidden_units[-1], 10))\n",
    "\n",
    "model = nn.Sequential(*all_layers).to(device)\n",
    "model.to(device)\n",
    "print(model)"
   ]
  },
  {
   "cell_type": "code",
   "execution_count": 6,
   "metadata": {},
   "outputs": [],
   "source": [
    "loss_fn = nn.CrossEntropyLoss()\n",
    "loss_fn.to(device)\n",
    "optimizer = torch.optim.Adam(model.parameters(), lr=0.001)"
   ]
  },
  {
   "cell_type": "code",
   "execution_count": 7,
   "metadata": {},
   "outputs": [
    {
     "name": "stdout",
     "output_type": "stream",
     "text": [
      "Epoch 1/20, Train Accuracy: 0.8531\n",
      "Epoch 2/20, Train Accuracy: 0.9287\n",
      "Epoch 3/20, Train Accuracy: 0.9414\n",
      "Epoch 4/20, Train Accuracy: 0.9506\n",
      "Epoch 5/20, Train Accuracy: 0.9558\n",
      "Epoch 6/20, Train Accuracy: 0.9592\n",
      "Epoch 7/20, Train Accuracy: 0.9627\n",
      "Epoch 8/20, Train Accuracy: 0.9649\n",
      "Epoch 9/20, Train Accuracy: 0.9674\n",
      "Epoch 10/20, Train Accuracy: 0.9690\n",
      "Epoch 11/20, Train Accuracy: 0.9710\n",
      "Epoch 12/20, Train Accuracy: 0.9728\n",
      "Epoch 13/20, Train Accuracy: 0.9739\n",
      "Epoch 14/20, Train Accuracy: 0.9750\n",
      "Epoch 15/20, Train Accuracy: 0.9764\n",
      "Epoch 16/20, Train Accuracy: 0.9777\n",
      "Epoch 17/20, Train Accuracy: 0.9779\n",
      "Epoch 18/20, Train Accuracy: 0.9798\n",
      "Epoch 19/20, Train Accuracy: 0.9807\n",
      "Epoch 20/20, Train Accuracy: 0.9813\n"
     ]
    }
   ],
   "source": [
    "torch.manual_seed(1)\n",
    "num_epochs = 20\n",
    "for epoch in range(num_epochs):\n",
    "    accuracy_hist_train = 0\n",
    "    for x_batch, y_batch in train_dl:\n",
    "        x_batch = x_batch.to(device, non_blocking=True)\n",
    "        y_batch = y_batch.to(device, non_blocking=True)\n",
    "        pred = model(x_batch)\n",
    "        loss = loss_fn(pred, y_batch)\n",
    "        loss.backward()\n",
    "        optimizer.step()\n",
    "        optimizer.zero_grad()\n",
    "        is_correct = (torch.argmax(pred, dim=1) == y_batch).float()\n",
    "        accuracy_hist_train += is_correct.sum().item()\n",
    "    accuracy_hist_train /= len(mnist_train_ds)\n",
    "    print(f\"Epoch {epoch+1}/{num_epochs}, Train Accuracy: {accuracy_hist_train:.4f}\")"
   ]
  },
  {
   "cell_type": "code",
   "execution_count": 8,
   "metadata": {},
   "outputs": [
    {
     "name": "stdout",
     "output_type": "stream",
     "text": [
      "Test Accuracy: 96.53%\n"
     ]
    }
   ],
   "source": [
    "def evaluate(model, test_dl, device):\n",
    "    model.eval()  \n",
    "    correct = 0\n",
    "    total = 0\n",
    "\n",
    "    with torch.no_grad():\n",
    "        for x_batch, y_batch in test_dl:\n",
    "            x_batch = x_batch.to(device, non_blocking=True)\n",
    "            y_batch = y_batch.to(device, non_blocking=True)\n",
    "\n",
    "            outputs = model(x_batch)\n",
    "            _, predicted = torch.max(outputs, dim=1) \n",
    "\n",
    "            total += y_batch.size(0)\n",
    "            correct += (predicted == y_batch).sum().item()\n",
    "\n",
    "    accuracy = 100 * correct / total\n",
    "    return accuracy\n",
    "\n",
    "acc = evaluate(model, test_dl, device)\n",
    "print(f\"Test Accuracy: {acc:.2f}%\")\n"
   ]
  },
  {
   "cell_type": "code",
   "execution_count": 9,
   "metadata": {},
   "outputs": [
    {
     "data": {
      "image/png": "[encoded data removed]",
      "text/plain": [
       "<Figure size 1000x500 with 10 Axes>"
      ]
     },
     "metadata": {},
     "output_type": "display_data"
    }
   ],
   "source": [
    "import matplotlib.pyplot as plt\n",
    "\n",
    "x_batch, y_batch = next(iter(test_dl))\n",
    "x_batch, y_batch = x_batch.to(device), y_batch.to(device)\n",
    "\n",
    "model.eval()\n",
    "with torch.no_grad():\n",
    "    outputs = model(x_batch)\n",
    "    _, preds = torch.max(outputs, 1)  \n",
    "\n",
    "fig, axes = plt.subplots(2, 5, figsize=(10, 5))\n",
    "for i, ax in enumerate(axes.flat):\n",
    "    img = x_batch[i].cpu().squeeze(0) \n",
    "    ax.imshow(img, cmap=\"gray\")\n",
    "    ax.set_title(f\"{preds[i].item()}\")\n",
    "    ax.axis(\"off\")\n",
    "\n",
    "plt.show()\n"
   ]
  },
  {
   "cell_type": "code",
   "execution_count": null,
   "metadata": {},
   "outputs": [],
   "source": []
  }
 ],
 "metadata": {
  "kernelspec": {
   "display_name": "torch",
   "language": "python",
   "name": "python3"
  },
  "language_info": {
   "codemirror_mode": {
    "name": "ipython",
    "version": 3
   },
   "file_extension": ".py",
   "mimetype": "text/x-python",
   "name": "python",
   "nbconvert_exporter": "python",
   "pygments_lexer": "ipython3",
   "version": "3.10.18"
  }
 },
 "nbformat": 4,
 "nbformat_minor": 2
}
